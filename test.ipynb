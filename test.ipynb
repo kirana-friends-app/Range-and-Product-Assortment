{
 "cells": [
  {
   "cell_type": "code",
   "execution_count": 1,
   "id": "initial_id",
   "metadata": {
    "collapsed": true,
    "ExecuteTime": {
     "end_time": "2023-11-29T17:33:38.608614400Z",
     "start_time": "2023-11-29T17:33:36.952891100Z"
    }
   },
   "outputs": [],
   "source": [
    "import os\n",
    "\n",
    "import numpy as np\n",
    "import pandas as pd\n",
    "import joblib\n",
    "from fuzzywuzzy import process\n",
    "import spacy\n",
    "import math\n",
    "import re\n"
   ]
  },
  {
   "cell_type": "code",
   "execution_count": 2,
   "outputs": [],
   "source": [
    "nlp = spacy.load('en_core_web_md')\n",
    "\n",
    "path = \"E:/Notebooks/\"\n",
    "\n",
    "df = pd.read_csv('E:/Downloads/Merger - Sheet5 (2).csv')\n",
    "category_names = df['CATEGORY'].unique()\n",
    "brands = df['BRAND'].unique()\n",
    "products = df['PRODUCT'].unique()\n",
    "brand_vectors = {brand: nlp(brand).vector for brand in brands}"
   ],
   "metadata": {
    "collapsed": false,
    "ExecuteTime": {
     "end_time": "2023-11-29T17:33:47.642697800Z",
     "start_time": "2023-11-29T17:33:39.521344500Z"
    }
   },
   "id": "904b77d8f170d001"
  },
  {
   "cell_type": "code",
   "execution_count": 3,
   "outputs": [
    {
     "name": "stderr",
     "output_type": "stream",
     "text": [
      "E:\\Notebooks\\Pycharm\\CatText\\Lib\\site-packages\\sklearn\\base.py:329: UserWarning: Trying to unpickle estimator TfidfTransformer from version 0.24.2 when using version 1.1.3. This might lead to breaking code or invalid results. Use at your own risk. For more info please refer to:\n",
      "https://scikit-learn.org/stable/model_persistence.html#security-maintainability-limitations\n",
      "  warnings.warn(\n",
      "E:\\Notebooks\\Pycharm\\CatText\\Lib\\site-packages\\sklearn\\base.py:329: UserWarning: Trying to unpickle estimator TfidfVectorizer from version 0.24.2 when using version 1.1.3. This might lead to breaking code or invalid results. Use at your own risk. For more info please refer to:\n",
      "https://scikit-learn.org/stable/model_persistence.html#security-maintainability-limitations\n",
      "  warnings.warn(\n",
      "E:\\Notebooks\\Pycharm\\CatText\\Lib\\site-packages\\sklearn\\base.py:329: UserWarning: Trying to unpickle estimator SVC from version 0.24.2 when using version 1.1.3. This might lead to breaking code or invalid results. Use at your own risk. For more info please refer to:\n",
      "https://scikit-learn.org/stable/model_persistence.html#security-maintainability-limitations\n",
      "  warnings.warn(\n",
      "E:\\Notebooks\\Pycharm\\CatText\\Lib\\site-packages\\sklearn\\base.py:329: UserWarning: Trying to unpickle estimator Pipeline from version 0.24.2 when using version 1.1.3. This might lead to breaking code or invalid results. Use at your own risk. For more info please refer to:\n",
      "https://scikit-learn.org/stable/model_persistence.html#security-maintainability-limitations\n",
      "  warnings.warn(\n",
      "E:\\Notebooks\\Pycharm\\CatText\\Lib\\site-packages\\sklearn\\base.py:329: UserWarning: Trying to unpickle estimator LabelEncoder from version 0.24.2 when using version 1.1.3. This might lead to breaking code or invalid results. Use at your own risk. For more info please refer to:\n",
      "https://scikit-learn.org/stable/model_persistence.html#security-maintainability-limitations\n",
      "  warnings.warn(\n"
     ]
    }
   ],
   "source": [
    "# Load the category prediction model and encoder\n",
    "category_model = joblib.load(\"E:/Downloads/newp_svc_best_model.pkl\")\n",
    "category_encoder = joblib.load(\"E:/Downloads/newp_category_encoder.pkl\")"
   ],
   "metadata": {
    "collapsed": false,
    "ExecuteTime": {
     "end_time": "2023-11-29T17:33:48.772238200Z",
     "start_time": "2023-11-29T17:33:47.651549100Z"
    }
   },
   "id": "1f8a2b49d8281937"
  },
  {
   "cell_type": "code",
   "execution_count": 4,
   "outputs": [],
   "source": [
    "category_keywords = {\n",
    "    'Baby Foods And Health Foods/ Drinks': ['BabyFood', 'Health', 'cereal', 'cornflakes', 'oats', 'museli'],\n",
    "    'Cosmetics': ['Skin', 'cosmetic', 'skincream', 'beauty', 'baby', 'wax', 'lip', 'sunscreen', 'lipstick'],\n",
    "    'Bath Soap/Liquids/Sanitizers': ['soap', 'shower', 'sanitizer', 'handwash', 'bodywash', 'facewash'],\n",
    "    'Detergent/Washing Aids': ['detergent', 'bathroom', 'washroom', 'freshener', 'disinfectant', 'fabric', 'stiffener',\n",
    "                               'stain', 'clean', 'sponge', 'scrub', 'broom', 'mop', 'wiper'],\n",
    "    'Sanitary Napkins & Diapers': ['sanitary', 'pads', 'diapers', 'tampon'],\n",
    "    'Shaving Care Products': ['shave', 'gillete', 'razor'],\n",
    "    'Paper/Party': ['bags', 'foil', 'paper'],\n",
    "    'Biscuits/Bakery Products': ['biscuit', 'bread', 'cake', 'cookies', 'wafer', 'rusk', 'toast'],\n",
    "    'Chocolates And Confectionaries': ['candy', 'lollipop', 'jelly', 'chewing'],\n",
    "    'Cold Drink/Juices/Drinks': ['juice', 'milkshake', 'crush', 'pulp', 'syrup', 'squash', 'cola', 'pepsi', 'drink'],\n",
    "    'Deo/Talcum/Perfume': ['deo', 'talc', 'perfume', 'rollon'],\n",
    "    'Hygiene': ['condom', 'intimate', 'nail'],\n",
    "    'Dairy Products': ['dairy', 'dahi', 'lassi', 'shrikhand'],\n",
    "    'Dental Care': ['dental', 'oral', 'floss', 'toothbrush', 'toothcare', 'toothpaste', 'tooth', 'mouthwash', 'tongue'],\n",
    "    'Hair Care': ['shampoo', 'conditioner'],\n",
    "    'General Merchandise': ['apparel', 'electric', 'plastic'],\n",
    "    'Dryfruits': ['dryfruit', 'dates', 'badam', 'ajeer', 'kaju'],\n",
    "    'Ready To Eat/Instant Food': ['instant', 'ready', 'noodles', 'pasta', 'soup'],\n",
    "    'Farshan/Chikki/Mithai': ['namkeen', 'chikki', 'mithai', 'chips', 'farsan'],\n",
    "    'Grocery': ['atta', 'flour', 'dal', 'grains', 'vegetables', 'rice', 'wheat'],\n",
    "    'Upwas Special': ['upwas', 'farali'],\n",
    "    'Frozen Foods': ['frozen', 'icecream', 'nuggets'],\n",
    "    'Pooja Items': ['agarbatti', 'pooja', 'dhoop'],\n",
    "    'Ghee/Vanaspati/Oils': ['ghee', 'vanaspati'],\n",
    "    'Sugar/Salt': ['jaggery', 'salt', 'sugar'],\n",
    "    'Masala And Spices': ['masala', 'spice', 'mukhwas', 'paste', 'puree'],\n",
    "    'Jams/Ketchups/Spreads': ['essence', 'jam', 'sauce', 'chutney', 'ketchup', 'spread', 'vinegar', 'mayonnaise'],\n",
    "    'Others': ['medicated', 'acidity'],\n",
    "    'Mosquito Repellents And Pesticides': ['insect', 'pesticide', 'mosquito', 'repellent', 'rat'],\n",
    "    'Papad/Pickles': ['papad', 'pickle', 'achaar'],\n",
    "    'Shoe Care Products': ['shoe', 'boot', 'polish'],\n",
    "    'Stationery': ['stationary', 'pen', 'book'],\n",
    "    'Tea/Coffee': ['Tea', 'coffee', 'teabag']\n",
    "}\n"
   ],
   "metadata": {
    "collapsed": false,
    "ExecuteTime": {
     "end_time": "2023-11-29T17:33:48.781401200Z",
     "start_time": "2023-11-29T17:33:48.781401200Z"
    }
   },
   "id": "c92d599722020db4"
  },
  {
   "cell_type": "code",
   "execution_count": 5,
   "outputs": [],
   "source": [
    "default_subcategories = {\n",
    "    \"Dryfruits\": \"Dry Fruits\",\n",
    "    \"Pooja Items\": \"Pooja Items\",\n",
    "    \"Shaving Care Products\": \"Shaving Care Products\",\n",
    "    \"Shoe Care Products\": \"Shoe Care Products\",\n",
    "    \"Stationery\": \"Stationery\",\n",
    "    \"Upwas Special\": \"Upwas Food\"\n",
    "}"
   ],
   "metadata": {
    "collapsed": false,
    "ExecuteTime": {
     "end_time": "2023-11-29T17:33:49.795794Z",
     "start_time": "2023-11-29T17:33:49.795794Z"
    }
   },
   "id": "f1c5c1eef0ced3ab"
  },
  {
   "cell_type": "code",
   "execution_count": 6,
   "outputs": [],
   "source": [
    "def preprocess_text(texts):\n",
    "    return [re.sub(r'[^A-Za-z]', ' ', text.lower()) if isinstance(text, str) else text for text in texts]"
   ],
   "metadata": {
    "collapsed": false,
    "ExecuteTime": {
     "end_time": "2023-11-29T17:33:51.326973200Z",
     "start_time": "2023-11-29T17:33:51.326973200Z"
    }
   },
   "id": "24816a59a6a5b58d"
  },
  {
   "cell_type": "code",
   "execution_count": 7,
   "outputs": [],
   "source": [
    "def predict_main_category(description, svc_model, encoder, category_names=category_names, fuzzy_match_threshold=90):\n",
    "    description = str(description)\n",
    "    # Preprocess the description\n",
    "    processed_description = preprocess_text([description])[0]\n",
    "\n",
    "    # Attempt fuzzy matching with the category names\n",
    "    matched_category = None\n",
    "    for word in processed_description.split():\n",
    "        closest_match, score = process.extractOne(word, category_names)\n",
    "        if score >= fuzzy_match_threshold:\n",
    "            matched_category = closest_match\n",
    "            break\n",
    "\n",
    "    if matched_category:\n",
    "        return matched_category, 0.75\n",
    "    else:\n",
    "        model_prediction = svc_model.predict([processed_description])\n",
    "        prediction_confidence = svc_model.predict_proba([processed_description])\n",
    "        decoded_prediction = encoder.inverse_transform(model_prediction)[0]\n",
    "        confidence = max(prediction_confidence[0])  # Assuming the highest class probability\n",
    "        return decoded_prediction, confidence"
   ],
   "metadata": {
    "collapsed": false,
    "ExecuteTime": {
     "end_time": "2023-11-29T17:33:52.295622300Z",
     "start_time": "2023-11-29T17:33:52.295622300Z"
    }
   },
   "id": "94d6270a4b6e3fbd"
  },
  {
   "cell_type": "code",
   "execution_count": 8,
   "outputs": [],
   "source": [
    "def predict_subcategory(description, main_category):\n",
    "    if pd.isna(description):\n",
    "        description = \"\"\n",
    "    # If the main category has a default subcategory, return it\n",
    "    if main_category in default_subcategories:\n",
    "        return default_subcategories[main_category]\n",
    "\n",
    "    # Otherwise, proceed with the model prediction\n",
    "    safe_filename = main_category.replace(\" \", \"_\").replace(\"/\", \"_and_\")\n",
    "    model_path = safe_filename + \"_model.pkl\"\n",
    "    encoder_path = safe_filename + \"_encoder.pkl\"\n",
    "    vectorizer_path = safe_filename + \"_vectorizer.pkl\"\n",
    "\n",
    "    model = joblib.load(path + model_path)\n",
    "    encoder = joblib.load(path + encoder_path)\n",
    "    vectorizer = joblib.load(path + vectorizer_path)\n",
    "\n",
    "    processed_description = preprocess_text([description])[0]\n",
    "    vectorized_description = vectorizer.transform([processed_description])\n",
    "    encoded_prediction = model.predict(vectorized_description)\n",
    "    return encoder.inverse_transform(encoded_prediction)[0]\n"
   ],
   "metadata": {
    "collapsed": false,
    "ExecuteTime": {
     "end_time": "2023-11-29T17:33:53.258322100Z",
     "start_time": "2023-11-29T17:33:53.258322100Z"
    }
   },
   "id": "149e90862b80e7a4"
  },
  {
   "cell_type": "code",
   "execution_count": 9,
   "outputs": [],
   "source": [
    "def predict_category_and_subcategory(description, model, encoder):\n",
    "    main_category, confidence = predict_main_category(description, model, encoder)\n",
    "    subcategory = predict_subcategory(description, main_category)\n",
    "    return main_category, subcategory, confidence\n"
   ],
   "metadata": {
    "collapsed": false,
    "ExecuteTime": {
     "end_time": "2023-11-29T17:33:54.430419500Z",
     "start_time": "2023-11-29T17:33:54.426657400Z"
    }
   },
   "id": "af3c3206f3564652"
  },
  {
   "cell_type": "code",
   "execution_count": 10,
   "outputs": [],
   "source": [
    "def aggregate_and_predict(sales_data, description_column, quantity_column, price_column, brand_column='None'):\n",
    "    # Remove rows where the product description (specified by description_column) is NaN\n",
    "    sales_data = sales_data.dropna(subset=[description_column])\n",
    "\n",
    "    # Ensure unique_data is a standalone DataFrame\n",
    "    unique_data = sales_data.drop_duplicates(subset=description_column).copy()\n",
    "\n",
    "    # Perform the predictions and store confidence\n",
    "    predictions = unique_data[description_column].apply(lambda x: predict_category_and_subcategory(x, category_model, category_encoder))\n",
    "    unique_data[['Predicted Category', 'Predicted Subcategory', 'Confidence']] = pd.DataFrame(predictions.tolist(), index=unique_data.index)\n",
    "\n",
    "    # Mark low confidence predictions\n",
    "    confidence_threshold = 0.35\n",
    "    unique_data['LowConfidence'] = unique_data['Confidence'] < confidence_threshold\n",
    "\n",
    "    # Merge back with the original sales data\n",
    "    sales_data = sales_data.merge(unique_data[[description_column, 'Predicted Category', 'Predicted Subcategory', 'LowConfidence']],on=description_column, how='left')\n",
    "\n",
    "    # Select only the required columns\n",
    "    required_columns = [description_column, 'Predicted Category', 'Predicted Subcategory', 'LowConfidence', quantity_column, price_column]\n",
    "\n",
    "    # Conditionally add columns if they are not 'None'\n",
    "    if brand_column != 'None':\n",
    "        required_columns.append(brand_column)\n",
    "\n",
    "    sales_data = sales_data.loc[:, required_columns]\n",
    "\n",
    "    return sales_data"
   ],
   "metadata": {
    "collapsed": false,
    "ExecuteTime": {
     "end_time": "2023-11-29T17:33:55.289711500Z",
     "start_time": "2023-11-29T17:33:55.272501400Z"
    }
   },
   "id": "ae7487c30b263bd2"
  },
  {
   "cell_type": "code",
   "execution_count": 11,
   "outputs": [],
   "source": [
    "def aggregate_sales_data(sales_data, group_column, quantity_column, price_column):\n",
    "    \"\"\"\n",
    "    Aggregates sales data by a given column, based on Quantity and Price.\n",
    "    \"\"\"\n",
    "    aggregation = {\n",
    "        quantity_column: 'sum',\n",
    "        price_column: 'sum'\n",
    "    }\n",
    "\n",
    "    aggregated_data = sales_data.groupby(group_column).agg(aggregation).reset_index()\n",
    "    return aggregated_data\n"
   ],
   "metadata": {
    "collapsed": false,
    "ExecuteTime": {
     "end_time": "2023-11-29T17:33:56.234865500Z",
     "start_time": "2023-11-29T17:33:56.219162700Z"
    }
   },
   "id": "9af0a7423b5b974e"
  },
  {
   "cell_type": "code",
   "execution_count": 12,
   "outputs": [],
   "source": [
    "def find_top_and_least(data, column, n=5):\n",
    "    \"\"\"\n",
    "    Finds the top and least n items based on a specific column.\n",
    "    \"\"\"\n",
    "    if column in data.columns:\n",
    "        top = data.nlargest(n, column)\n",
    "        least = data.nsmallest(n, column)\n",
    "        return top, least\n",
    "    return None, None\n"
   ],
   "metadata": {
    "collapsed": false,
    "ExecuteTime": {
     "end_time": "2023-11-29T17:33:56.992022500Z",
     "start_time": "2023-11-29T17:33:56.991517600Z"
    }
   },
   "id": "72b0433b1166fbd4"
  },
  {
   "cell_type": "code",
   "execution_count": 13,
   "outputs": [],
   "source": [
    "def analyze_sales_data(data, group_column, quantity_column, price_column, analysis_type):\n",
    "    \"\"\"\n",
    "    Analyzes sales data based on the provided group column and Quantity and Price.\n",
    "    \"\"\"\n",
    "    stats = aggregate_sales_data(data, group_column, quantity_column, price_column)\n",
    "    results = {}\n",
    "\n",
    "    if stats is not None:\n",
    "        results[f\"top_{analysis_type}_by_quantity\"], results[f\"least_{analysis_type}_by_quantity\"] = find_top_and_least(stats, quantity_column)\n",
    "        results[f\"top_{analysis_type}_by_value\"], results[f\"least_{analysis_type}_by_value\"] = find_top_and_least(stats, price_column)\n",
    "\n",
    "    return results\n"
   ],
   "metadata": {
    "collapsed": false,
    "ExecuteTime": {
     "end_time": "2023-11-29T17:33:58.034132200Z",
     "start_time": "2023-11-29T17:33:58.034132200Z"
    }
   },
   "id": "ec8d618fd9c58184"
  },
  {
   "cell_type": "code",
   "execution_count": 14,
   "outputs": [],
   "source": [
    "def analyze_category_sales(data, category_column, quantity_column, price_column):\n",
    "    return analyze_sales_data(data, category_column, quantity_column, price_column, 'categories')\n",
    "\n",
    "\n",
    "def analyze_subcategory_sales(data, subcategory_column, quantity_column, price_column):\n",
    "    return analyze_sales_data(data, subcategory_column, quantity_column, price_column, 'subcategories')\n",
    "\n",
    "\n",
    "def analyze_brand_sales(data, brand_column, quantity_column, price_column):\n",
    "    return analyze_sales_data(data, brand_column, quantity_column, price_column, 'brands')\n",
    "\n",
    "\n",
    "def analyze_item_sales(data, item_column, quantity_column, price_column):\n",
    "    return analyze_sales_data(data, item_column, quantity_column, price_column, 'items')"
   ],
   "metadata": {
    "collapsed": false,
    "ExecuteTime": {
     "end_time": "2023-11-29T17:33:59.855813900Z",
     "start_time": "2023-11-29T17:33:59.840100400Z"
    }
   },
   "id": "d46685ff1abc949d"
  },
  {
   "cell_type": "code",
   "execution_count": 15,
   "outputs": [],
   "source": [
    "sales_data = pd.read_excel(\"E:/Downloads/Chintan lunawad sales category.xlsx\")\n",
    "description_column='ITEM TYPE'\n",
    "quantity_column='Total Sold Qty'\n",
    "price_column='Sale Amount AfterTax'\n",
    "brand_column='BRAND'"
   ],
   "metadata": {
    "collapsed": false,
    "ExecuteTime": {
     "end_time": "2023-11-29T17:34:01.891241700Z",
     "start_time": "2023-11-29T17:34:00.735167700Z"
    }
   },
   "id": "e06c69367d9ed477"
  },
  {
   "cell_type": "code",
   "execution_count": 16,
   "outputs": [
    {
     "name": "stdout",
     "output_type": "stream",
     "text": [
      "          ITEM TYPE            Predicted Category Predicted Subcategory  \\\n",
      "0            COFFEE                    Tea/Coffee                Coffee   \n",
      "1        BOURN VITA  Bath Soap/Liquids/Sanitizers             Face Wash   \n",
      "2        BOURN VITA  Bath Soap/Liquids/Sanitizers             Face Wash   \n",
      "3        BOURN VITA  Bath Soap/Liquids/Sanitizers             Face Wash   \n",
      "4        BOURN VITA  Bath Soap/Liquids/Sanitizers             Face Wash   \n",
      "...             ...                           ...                   ...   \n",
      "2313   DHOOP STICKS                   Pooja Items           Pooja Items   \n",
      "2314   DHOOP STICKS                   Pooja Items           Pooja Items   \n",
      "2315   COTTON WICKS                   Pooja Items           Pooja Items   \n",
      "2316          DHOOP                   Pooja Items           Pooja Items   \n",
      "2317   DHOOP STICKS                   Pooja Items           Pooja Items   \n",
      "\n",
      "      LowConfidence  Total Sold Qty  Sale Amount AfterTax  \\\n",
      "0             False             5.0                  50.0   \n",
      "1              True             1.0                 125.0   \n",
      "2              True             1.0                 240.0   \n",
      "3              True             1.0                 240.0   \n",
      "4              True             1.0                 225.0   \n",
      "...             ...             ...                   ...   \n",
      "2313          False             1.0                  30.0   \n",
      "2314          False             1.0                  30.0   \n",
      "2315          False             1.0                  10.4   \n",
      "2316          False             1.0                  30.0   \n",
      "2317          False             1.0                  20.0   \n",
      "\n",
      "                            BRAND  \n",
      "0      HINDUSTAN UNILEVER LIMITED  \n",
      "1                         CADBURY  \n",
      "2                         CADBURY  \n",
      "3                         CADBURY  \n",
      "4                         CADBURY  \n",
      "...                           ...  \n",
      "2313                       NISHAN  \n",
      "2314                       NISHAN  \n",
      "2315                    PATANJALI  \n",
      "2316                    PATANJALI  \n",
      "2317                    PATANJALI  \n",
      "\n",
      "[2318 rows x 7 columns]\n"
     ]
    }
   ],
   "source": [
    "# Process and predict categories\n",
    "sales_data = aggregate_and_predict(sales_data, description_column, quantity_column, price_column, brand_column)\n",
    "print(sales_data)"
   ],
   "metadata": {
    "collapsed": false,
    "ExecuteTime": {
     "end_time": "2023-11-29T17:34:05.974964600Z",
     "start_time": "2023-11-29T17:34:01.891241700Z"
    }
   },
   "id": "651b2d00fa063121"
  },
  {
   "cell_type": "code",
   "execution_count": 17,
   "outputs": [],
   "source": [
    "# Filter for unique or low confidence predictions\n",
    "unique_or_low_confidence_data = sales_data.drop_duplicates(\n",
    "    subset=[description_column, 'Predicted Category', 'Predicted Subcategory'])\n",
    "unique_or_low_confidence_data = unique_or_low_confidence_data[unique_or_low_confidence_data['LowConfidence']]"
   ],
   "metadata": {
    "collapsed": false,
    "ExecuteTime": {
     "end_time": "2023-11-29T17:34:07.176844700Z",
     "start_time": "2023-11-29T17:34:07.168543Z"
    }
   },
   "id": "69eb0cfb13057215"
  },
  {
   "cell_type": "code",
   "execution_count": 18,
   "outputs": [],
   "source": [
    "# Check if columns are 'None' and adjust the DataFrame operation\n",
    "agg_columns = {}\n",
    "if quantity_column != 'None':\n",
    "    agg_columns[quantity_column] = 'sum'\n",
    "if price_column != 'None':\n",
    "    agg_columns[price_column] = 'sum'\n",
    "if brand_column != 'None':\n",
    "    agg_columns[brand_column] = 'sum'\n",
    "\n",
    "# Include 'Predicted Category' and 'Predicted Subcategory' using mode\n",
    "agg_columns['Predicted Category'] = lambda x: x.mode()[0] if not x.mode().empty else np.nan\n",
    "agg_columns['Predicted Subcategory'] = lambda x: x.mode()[0] if not x.mode().empty else np.nan\n",
    "\n",
    "if agg_columns:  # Check if there are columns to aggregate\n",
    "    grouped_data = sales_data.groupby(description_column).agg(agg_columns)\n",
    "    # Reset the index to make grouped columns regular columns\n",
    "    grouped_data = grouped_data.reset_index()\n",
    "\n",
    "\n",
    "# Assuming quantity_column and price_column are obtained from user input\n",
    "category_results = analyze_category_sales(grouped_data, 'Predicted Category', quantity_column, price_column)\n",
    "subcategory_results = analyze_subcategory_sales(grouped_data, 'Predicted Subcategory', quantity_column,\n",
    "                                                price_column)\n",
    "brand_results = analyze_brand_sales(grouped_data, brand_column, quantity_column, price_column)\n",
    "item_results = analyze_item_sales(grouped_data, description_column, quantity_column,\n",
    "                                  price_column)  # column_name is the identifier for items\n",
    "\n",
    "# Combine all results\n",
    "# results = {**category_results, **subcategory_results, **brand_results, **item_results}\n",
    "# print(results)\n",
    "# Assuming category_results, subcategory_results, brand_results, item_results are DataFrames\n",
    "\n",
    "results = {\n",
    "    'categories': {\n",
    "        'data': category_results,\n",
    "        'is_empty': not category_results\n",
    "    },\n",
    "    'subcategories': {\n",
    "        'data': subcategory_results,\n",
    "        'is_empty': not subcategory_results\n",
    "    },\n",
    "    'brands': {\n",
    "        'data': brand_results,\n",
    "        'is_empty': not brand_results\n",
    "    },\n",
    "    'items': {\n",
    "        'data': item_results,\n",
    "        'is_empty': not item_results\n",
    "    }\n",
    "}"
   ],
   "metadata": {
    "collapsed": false,
    "ExecuteTime": {
     "end_time": "2023-11-29T17:34:08.337785100Z",
     "start_time": "2023-11-29T17:34:08.194281800Z"
    }
   },
   "id": "3459888aba59d03"
  },
  {
   "cell_type": "code",
   "execution_count": 19,
   "outputs": [
    {
     "name": "stdout",
     "output_type": "stream",
     "text": [
      "{'categories': {'data': {'top_categories_by_quantity':                 Predicted Category  Total Sold Qty  Sale Amount AfterTax\n",
      "9           Detergent/Washing Aids           618.0              29320.66\n",
      "15                       Hair Care           527.0              12505.12\n",
      "12             General Merchandise           498.0              36362.00\n",
      "2         Biscuits/Bakery Products           413.0              12904.05\n",
      "3   Chocolates And Confectionaries           411.0               5239.00, 'least_categories_by_quantity':                       Predicted Category  Total Sold Qty  Sale Amount AfterTax\n",
      "16                               Hygiene             2.0                  50.0\n",
      "0    Baby Foods And Health Foods/ Drinks             6.0                 587.0\n",
      "19  Mosquito Repellents And  Pesticides              6.0                 302.0\n",
      "22                           Pooja Items             9.0                 195.4\n",
      "25                 Shaving Care Products             9.0                 520.0, 'top_categories_by_value':         Predicted Category  Total Sold Qty  Sale Amount AfterTax\n",
      "12     General Merchandise           498.0              36362.00\n",
      "13     Ghee/Vanaspati/Oils            63.0              30303.71\n",
      "9   Detergent/Washing Aids           618.0              29320.66\n",
      "18       Masala And Spices           323.0              27466.57\n",
      "10               Dryfruits           111.0              18407.32, 'least_categories_by_value':                       Predicted Category  Total Sold Qty  Sale Amount AfterTax\n",
      "16                               Hygiene             2.0                  50.0\n",
      "22                           Pooja Items             9.0                 195.4\n",
      "19  Mosquito Repellents And  Pesticides              6.0                 302.0\n",
      "25                 Shaving Care Products             9.0                 520.0\n",
      "0    Baby Foods And Health Foods/ Drinks             6.0                 587.0}, 'is_empty': False}, 'subcategories': {'data': {'top_subcategories_by_quantity':                Predicted Subcategory  Total Sold Qty  Sale Amount AfterTax\n",
      "47  Plasticware & Kitchen Appliances           469.0              33104.38\n",
      "14                         Detergent           442.0              17119.71\n",
      "58                           Shampoo           417.0               4492.52\n",
      "6                           Biscuits           412.0              12854.05\n",
      "7                              Candy           286.0               2234.00, 'least_subcategories_by_quantity':    Predicted Subcategory  Total Sold Qty  Sale Amount AfterTax\n",
      "4                 Bakery             1.0                  50.0\n",
      "8                Chutney             1.0                  90.0\n",
      "22        Hand Sanitizer             1.0                  50.0\n",
      "24          Health Drink             1.0                 117.0\n",
      "67               Vinegar             1.0                  50.0, 'top_subcategories_by_value':                Predicted Subcategory  Total Sold Qty  Sale Amount AfterTax\n",
      "47  Plasticware & Kitchen Appliances           469.0              33104.38\n",
      "42                               Oil            46.0              24256.19\n",
      "16                        Dry Fruits           111.0              18407.32\n",
      "14                         Detergent           442.0              17119.71\n",
      "6                           Biscuits           412.0              12854.05, 'least_subcategories_by_value':    Predicted Subcategory  Total Sold Qty  Sale Amount AfterTax\n",
      "4                 Bakery             1.0                  50.0\n",
      "22        Hand Sanitizer             1.0                  50.0\n",
      "67               Vinegar             1.0                  50.0\n",
      "32                   Jam             3.0                  60.0\n",
      "51         Ready To Cook             4.0                  85.0}, 'is_empty': False}, 'brands': {'data': {'top_brands_by_quantity':                                                  BRAND  Total Sold Qty  \\\n",
      "68    GHADI GHADI GHADI GHADI GHADI GHADI USAMA SAL...           352.0   \n",
      "103   HINDUSTAN UNILEVER LIMITED HINDUSTAN UNILEVER...           290.0   \n",
      "37    CADBURY CADBURY CADBURY CADBURY CADBURY CADBU...           202.0   \n",
      "36    CADBURY CADBURY CADBURY CADBURY CADBURY CADBU...           175.0   \n",
      "97    HINDUSTAN UNILEVER LIMITED HINDUSTAN UNILEVER...           144.0   \n",
      "\n",
      "     Sale Amount AfterTax  \n",
      "68                 4800.0  \n",
      "103                 571.0  \n",
      "37                 3828.0  \n",
      "36                 1800.0  \n",
      "97                11476.0  , 'least_brands_by_quantity':             BRAND  Total Sold Qty  Sale Amount AfterTax\n",
      "15          ANKUR             1.0                 70.00\n",
      "17          B-FIT             1.0                299.28\n",
      "18        BADSHAH             1.0                 37.00\n",
      "30   BIGO PLASTIC             1.0                179.00\n",
      "33            BRW             1.0                 99.36, 'top_brands_by_value':                                                  BRAND  Total Sold Qty  \\\n",
      "230   TIRUPATI TIRUPATI TIRUPATI TIRUPATI TIRUPATI ...            35.0   \n",
      "97    HINDUSTAN UNILEVER LIMITED HINDUSTAN UNILEVER...           144.0   \n",
      "231   TULSI TULSI TULSI WAGH BAKRI WAGH BAKRI WAGH ...            49.0   \n",
      "191   SARAS TIDE P&G P&G GHADI GHADI GHADI GHADI GH...            83.0   \n",
      "100   HINDUSTAN UNILEVER LIMITED HINDUSTAN UNILEVER...            98.0   \n",
      "\n",
      "     Sale Amount AfterTax  \n",
      "230              20046.00  \n",
      "97               11476.00  \n",
      "231              10776.00  \n",
      "191              10024.24  \n",
      "100               8739.61  , 'least_brands_by_value':                   BRAND  Total Sold Qty  Sale Amount AfterTax\n",
      "154               NUPUR             1.0                  10.0\n",
      "228               TALOD             1.0                  10.0\n",
      "189             SAFFOLA             2.0                  20.0\n",
      "113   JAGDISH RICE MILL             1.0                  25.0\n",
      "59    EVERYUTH EVERYUTH             2.0                  28.0}, 'is_empty': False}, 'items': {'data': {'top_items_by_quantity':               ITEM TYPE  Total Sold Qty  Sale Amount AfterTax\n",
      "78        DETERGENT BAR           352.0                4800.0\n",
      "277   SHAMPOO&CONDIONER           290.0                 571.0\n",
      "26              BISCUIT           202.0                3828.0\n",
      "52            CHOCOLATE           175.0                1800.0\n",
      "283                SOAP           144.0               11476.0, 'least_items_by_quantity':             ITEM TYPE  Total Sold Qty  Sale Amount AfterTax\n",
      "2       ADULT DIAPERS             1.0                299.28\n",
      "3             AELACHO             1.0                 85.00\n",
      "7               ANJIR             1.0                469.00\n",
      "9          BABY CREAM             1.0                 80.00\n",
      "11   BABY MASSAGE OIL             1.0                120.00, 'top_items_by_value':              ITEM TYPE  Total Sold Qty  Sale Amount AfterTax\n",
      "70      COTTONSEED OIL            35.0              20046.00\n",
      "283               SOAP           144.0              11476.00\n",
      "301                TEA            49.0              10776.00\n",
      "81    DETERGENT POWDER            83.0              10024.24\n",
      "315        TOOTH PASTE            98.0               8739.61, 'least_items_by_value':              ITEM TYPE  Total Sold Qty  Sale Amount AfterTax\n",
      "54      CHUTENY POWDER             1.0                  10.0\n",
      "180            MAHENDI             1.0                  10.0\n",
      "323           VEG SOUP             1.0                  10.0\n",
      "69        COTTON WICKS             1.0                  10.4\n",
      "30    BODY BRUSH NYLON             1.0                  15.0}, 'is_empty': False}}\n"
     ]
    }
   ],
   "source": [
    "print(results)"
   ],
   "metadata": {
    "collapsed": false,
    "ExecuteTime": {
     "end_time": "2023-11-29T17:34:09.880858400Z",
     "start_time": "2023-11-29T17:34:09.838394300Z"
    }
   },
   "id": "6d48b65459abcaef"
  },
  {
   "cell_type": "code",
   "execution_count": 22,
   "outputs": [
    {
     "name": "stdout",
     "output_type": "stream",
     "text": [
      "['Detergent/Washing Aids', 'Hair Care', 'General Merchandise', 'Biscuits/Bakery Products', 'Chocolates And Confectionaries']\n"
     ]
    }
   ],
   "source": [
    "# Assuming 'results' is your main dictionary\n",
    "categories_data = results['categories']['data']\n",
    "\n",
    "# Accessing the DataFrame for top categories by quantity\n",
    "top_categories_df = categories_data['top_categories_by_quantity']\n",
    "\n",
    "# Accessing the 'Predicted Category' column\n",
    "predicted_categories = top_categories_df['Predicted Category']\n",
    "\n",
    "# If you want it as a list\n",
    "predicted_category_list = predicted_categories.tolist()\n",
    "\n",
    "print(predicted_category_list)\n"
   ],
   "metadata": {
    "collapsed": false,
    "ExecuteTime": {
     "end_time": "2023-11-29T17:38:56.971480200Z",
     "start_time": "2023-11-29T17:38:56.971480200Z"
    }
   },
   "id": "f3bf102dc852800d"
  },
  {
   "cell_type": "code",
   "execution_count": 23,
   "outputs": [
    {
     "name": "stdout",
     "output_type": "stream",
     "text": [
      "Detergent/Washing Aids\n",
      "Hair Care\n",
      "General Merchandise\n",
      "Biscuits/Bakery Products\n",
      "Chocolates And Confectionaries\n"
     ]
    }
   ],
   "source": [
    "top_categories_list = results['categories']['data']['top_categories_by_quantity'].to_dict(orient='records')\n",
    "for row in top_categories_list:\n",
    "    print(row['Predicted Category'])"
   ],
   "metadata": {
    "collapsed": false,
    "ExecuteTime": {
     "end_time": "2023-11-29T17:50:04.248143600Z",
     "start_time": "2023-11-29T17:50:04.212282700Z"
    }
   },
   "id": "c5922526018d3410"
  },
  {
   "cell_type": "code",
   "execution_count": null,
   "outputs": [],
   "source": [],
   "metadata": {
    "collapsed": false
   },
   "id": "51b15799ce32a552"
  }
 ],
 "metadata": {
  "kernelspec": {
   "display_name": "Python 3",
   "language": "python",
   "name": "python3"
  },
  "language_info": {
   "codemirror_mode": {
    "name": "ipython",
    "version": 2
   },
   "file_extension": ".py",
   "mimetype": "text/x-python",
   "name": "python",
   "nbconvert_exporter": "python",
   "pygments_lexer": "ipython2",
   "version": "2.7.6"
  }
 },
 "nbformat": 4,
 "nbformat_minor": 5
}
